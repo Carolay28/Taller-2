{
 "cells": [
  {
   "cell_type": "markdown",
   "id": "3f1838eb",
   "metadata": {},
   "source": [
    "# Taller 2\n",
    "\n",
    "Carolay Pillajo"
   ]
  },
  {
   "cell_type": "markdown",
   "id": "5884843b",
   "metadata": {},
   "source": [
    "## Ejercicio 1\n",
    "\n",
    "Encuentre todas las raíces del polinomio $x^4+540∗x^3+109124∗x^2+9781632∗x+328188672=0$\n",
    "."
   ]
  },
  {
   "cell_type": "markdown",
   "id": "90bc2b1d",
   "metadata": {},
   "source": [
    "* Metodo de Biseccion"
   ]
  },
  {
   "cell_type": "code",
   "execution_count": 21,
   "id": "46a527f7",
   "metadata": {},
   "outputs": [
    {
     "name": "stdout",
     "output_type": "stream",
     "text": [
      "No hay cambio de signo en el intervalo [ -200 , -100 ]\n",
      "Las raíces del polinomio son:\n",
      "x = -152.000000, f(x) = -1.29e-03\n",
      "x = -136.000000, f(x) = 5.72e-04\n"
     ]
    }
   ],
   "source": [
    "from scipy.optimize import bisect\n",
    "\n",
    "def f(x):\n",
    "    return x**4 + 540*x**3 + 109124*x**2 + 9781632*x + 328188672\n",
    "\n",
    "intervalos = [(-200, -100), (-160, -140), (-140, -120)]\n",
    "raices = []\n",
    "\n",
    "for a, b in intervalos:\n",
    "    try:\n",
    "        raiz = bisect(f, a, b, xtol=1e-6)\n",
    "        raices.append(raiz)\n",
    "    except ValueError:\n",
    "        print(\"No hay cambio de signo en el intervalo [\", a, \",\", b, \"]\")\n",
    "\n",
    "print(\"Las raíces del polinomio son:\")\n",
    "for r in raices:\n",
    "    print(f\"x = {r:.6f}, f(x) = {f(r):.2e}\")\n"
   ]
  },
  {
   "cell_type": "markdown",
   "id": "430f6838",
   "metadata": {},
   "source": [
    "* Metodo de Newton"
   ]
  },
  {
   "cell_type": "code",
   "execution_count": 22,
   "id": "c2f957de",
   "metadata": {},
   "outputs": [
    {
     "name": "stdout",
     "output_type": "stream",
     "text": [
      "Las raíces del polinomio son:\n",
      "x = -152.000000, f(x) = 4.77e-07\n",
      "x = -125.999995, f(x) = 0.00e+00\n"
     ]
    }
   ],
   "source": [
    "from scipy.optimize import newton\n",
    "\n",
    "def f(x):\n",
    "    return x**4 + 540*x**3 + 109124*x**2 + 9781632*x + 328188672\n",
    "\n",
    "def df(x):\n",
    "    return 4*x**3 + 1620*x**2 + 218248*x + 9781632\n",
    "\n",
    "valores_iniciales = [-180, -150, -130]\n",
    "raices = []\n",
    "\n",
    "for x0 in valores_iniciales:\n",
    "    try:\n",
    "        raiz = newton(f, x0, fprime=df, tol=1e-6)\n",
    "        if not any(abs(raiz - r) < 1e-6 for r in raices):\n",
    "            raices.append(raiz)\n",
    "    except RuntimeError:\n",
    "        pass\n",
    "\n",
    "print(\"Las raíces del polinomio son:\")\n",
    "for r in raices:\n",
    "    print(f\"x = {r:.6f}, f(x) = {f(r):.2e}\")\n"
   ]
  },
  {
   "cell_type": "code",
   "execution_count": 27,
   "id": "de633857",
   "metadata": {},
   "outputs": [
    {
     "name": "stdout",
     "output_type": "stream",
     "text": [
      "No hay cambio de signo en [-200, -100]\n"
     ]
    },
    {
     "name": "stderr",
     "output_type": "stream",
     "text": [
      "C:\\Users\\PC\\AppData\\Local\\Temp\\ipykernel_17516\\1836950140.py:50: DeprecationWarning: Starting with ImageIO v3 the behavior of this function will switch to that of iio.v3.imread. To keep the current behavior (and make this warning disappear) use `import imageio.v2 as imageio` or call `imageio.v2.imread` directly.\n",
      "  frames = [imageio.imread(img) for img in imagenes]\n"
     ]
    },
    {
     "name": "stdout",
     "output_type": "stream",
     "text": [
      "GIF creado: biseccion_eje1.gif\n",
      "Las raíces del polinomio son:\n",
      "x = -152.000000, f(x) = -1.29e-03\n",
      "x = -136.000000, f(x) = 5.72e-04\n"
     ]
    }
   ],
   "source": [
    "import numpy as np\n",
    "import matplotlib.pyplot as plt\n",
    "import imageio\n",
    "import os\n",
    "from scipy.optimize import bisect\n",
    "\n",
    "def f(x):\n",
    "    return x**4 + 540*x**3 + 109124*x**2 + 9781632*x + 328188672\n",
    "\n",
    "def biseccion_animada(a, b, tol, imagenes):\n",
    "    x = np.linspace(a - 20, b + 20, 400)\n",
    "    y = f(x)\n",
    "\n",
    "    a_temp, b_temp = a, b\n",
    "    while abs(b_temp - a_temp) / 2 > tol:\n",
    "        c = (a_temp + b_temp) / 2\n",
    "\n",
    "        fig, ax = plt.subplots(figsize=(8, 5))\n",
    "        ax.plot(x, y, 'b', label=\"f(x)\")\n",
    "        ax.axhline(0, color='black', linewidth=0.8)\n",
    "        ax.plot(c, f(c), 'ro', label=\"Aproximación\")\n",
    "        ax.plot([a_temp, a_temp], [min(y), max(y)], 'g--', label=\"Límite Izq\")\n",
    "        ax.plot([b_temp, b_temp], [min(y), max(y)], 'r--', label=\"Límite Der\")\n",
    "        ax.set_title(f\"a={a_temp:.2f}, b={b_temp:.2f}, c={c:.2f}\")\n",
    "        ax.legend()\n",
    "        ax.grid(True)\n",
    "\n",
    "        nombre = f\"paso_{len(imagenes)}.png\"\n",
    "        plt.savefig(nombre)\n",
    "        plt.close()\n",
    "        imagenes.append(nombre)\n",
    "\n",
    "        if f(a_temp) * f(c) < 0:\n",
    "            b_temp = c\n",
    "        else:\n",
    "            a_temp = c\n",
    "\n",
    "intervalos = [(-200, -100), (-160, -140), (-140, -120)]\n",
    "raices = []\n",
    "imagenes = []\n",
    "\n",
    "for a, b in intervalos:\n",
    "    try:\n",
    "        raiz = bisect(f, a, b, xtol=1e-6)\n",
    "        raices.append(raiz)\n",
    "        biseccion_animada(a, b, 1e-3, imagenes)\n",
    "    except ValueError:\n",
    "        print(f\"No hay cambio de signo en [{a}, {b}]\")\n",
    "\n",
    "frames = [imageio.imread(img) for img in imagenes]\n",
    "imageio.mimsave(\"biseccion_eje1.gif\", frames, fps=1)\n",
    "\n",
    "for img in imagenes:\n",
    "    os.remove(img)\n",
    "\n",
    "print(\"GIF creado: biseccion_eje1.gif\")\n",
    "\n",
    "print(\"Las raíces del polinomio son:\")\n",
    "for r in raices:\n",
    "    print(f\"x = {r:.6f}, f(x) = {f(r):.2e}\")\n"
   ]
  },
  {
   "cell_type": "markdown",
   "id": "ad7feb6a",
   "metadata": {},
   "source": [
    "## Ejercicio 2"
   ]
  },
  {
   "cell_type": "markdown",
   "id": "3b59e790",
   "metadata": {},
   "source": [
    "Encuentre todos los puntos en los que la curva $(y/2)^2=((x+3)/2)^2 −1$\n",
    " interseca el eje $y=−2$\n",
    ".\n"
   ]
  },
  {
   "cell_type": "markdown",
   "id": "2b20005d",
   "metadata": {},
   "source": [
    "* Metodo de Biseccion"
   ]
  },
  {
   "cell_type": "code",
   "execution_count": 24,
   "id": "e83f78c4",
   "metadata": {},
   "outputs": [
    {
     "name": "stdout",
     "output_type": "stream",
     "text": [
      "Intersecciones con y = -2:\n",
      "x = -34.236068, y = -2, f(x) = -1.99e-06\n",
      "x = -29.763932, y = -2, f(x) = -1.99e-06\n"
     ]
    }
   ],
   "source": [
    "from scipy.optimize import bisect\n",
    "\n",
    "def f(x):\n",
    "    return (x + 32)**2 - 5\n",
    "\n",
    "intervalos = [(-35, -32), (-32, -29)]\n",
    "raices = []\n",
    "\n",
    "for a, b in intervalos:\n",
    "    try:\n",
    "        raiz = bisect(f, a, b, xtol=1e-6)\n",
    "        raices.append(raiz)\n",
    "    except ValueError:\n",
    "        print(f\"No hay cambio de signo en el intervalo [{a}, {b}]\")\n",
    "\n",
    "print(\"Intersecciones con y = -2:\")\n",
    "for r in raices:\n",
    "    print(f\"x = {r:.6f}, y = -2, f(x) = {f(r):.2e}\")\n"
   ]
  },
  {
   "cell_type": "markdown",
   "id": "e333bd1e",
   "metadata": {},
   "source": [
    "* Metodo de Newton\n"
   ]
  },
  {
   "cell_type": "code",
   "execution_count": 25,
   "id": "808d6957",
   "metadata": {},
   "outputs": [
    {
     "name": "stdout",
     "output_type": "stream",
     "text": [
      "Intersecciones con y = -2:\n",
      "x = -34.236068, y = -2, f(x) = -1.51e-14\n",
      "x = -29.763932, y = -2, f(x) = 8.88e-16\n"
     ]
    }
   ],
   "source": [
    "from scipy.optimize import newton\n",
    "\n",
    "def f(x):\n",
    "    return (x + 32)**2 - 5\n",
    "\n",
    "def df(x):\n",
    "    return 2 * (x + 32)\n",
    "\n",
    "valores_iniciales = [-32 - 5**0.5, -32 + 5**0.5]\n",
    "raices = []\n",
    "\n",
    "for x0 in valores_iniciales:\n",
    "    try:\n",
    "        raiz = newton(f, x0, fprime=df, tol=1e-6)\n",
    "        if not any(abs(raiz - r) < 1e-6 for r in raices):\n",
    "            raices.append(raiz)\n",
    "    except RuntimeError:\n",
    "        pass\n",
    "\n",
    "print(\"Intersecciones con y = -2:\")\n",
    "for r in raices:\n",
    "    print(f\"x = {r:.6f}, y = -2, f(x) = {f(r):.2e}\")\n"
   ]
  },
  {
   "cell_type": "code",
   "execution_count": 29,
   "id": "9c1ae0c2",
   "metadata": {},
   "outputs": [
    {
     "name": "stderr",
     "output_type": "stream",
     "text": [
      "C:\\Users\\PC\\AppData\\Local\\Temp\\ipykernel_17516\\3094737047.py:49: DeprecationWarning: Starting with ImageIO v3 the behavior of this function will switch to that of iio.v3.imread. To keep the current behavior (and make this warning disappear) use `import imageio.v2 as imageio` or call `imageio.v2.imread` directly.\n",
      "  frames = [imageio.imread(img) for img in imagenes]\n"
     ]
    },
    {
     "name": "stdout",
     "output_type": "stream",
     "text": [
      "GIF creado: biseccion_eje2.gif\n",
      "Intersecciones con y = -2:\n",
      "x = -34.236068, y = -2, f(x) = -1.99e-06\n",
      "x = -29.763932, y = -2, f(x) = -1.99e-06\n"
     ]
    }
   ],
   "source": [
    "import numpy as np\n",
    "import matplotlib.pyplot as plt\n",
    "import imageio\n",
    "import os\n",
    "from scipy.optimize import bisect\n",
    "\n",
    "def f(x):\n",
    "    return (x + 32)**2 - 5\n",
    "\n",
    "def biseccion_animada(a, b, tol, imagenes):\n",
    "    x = np.linspace(a - 1, b + 1, 300)\n",
    "    y = f(x)\n",
    "\n",
    "    a_temp, b_temp = a, b\n",
    "    while abs(b_temp - a_temp) / 2 > tol:\n",
    "        c = (a_temp + b_temp) / 2\n",
    "\n",
    "        fig, ax = plt.subplots(figsize=(7, 4))\n",
    "        ax.plot(x, y, 'b')\n",
    "        ax.axhline(0, color='black', linewidth=0.8)\n",
    "        ax.scatter(c, f(c), color='red', s=50)\n",
    "        ax.plot([a_temp, a_temp], [min(y), max(y)], 'g--')\n",
    "        ax.plot([b_temp, b_temp], [min(y), max(y)], 'r--')\n",
    "        ax.set_title(f\"a={a_temp:.3f}, b={b_temp:.3f}, c={c:.3f}\")\n",
    "        ax.grid(True)\n",
    "\n",
    "        nombre = f\"paso_{len(imagenes)}.png\"\n",
    "        plt.savefig(nombre)\n",
    "        plt.close()\n",
    "        imagenes.append(nombre)\n",
    "\n",
    "        if f(a_temp) * f(c) < 0:\n",
    "            b_temp = c\n",
    "        else:\n",
    "            a_temp = c\n",
    "\n",
    "intervalos = [(-35, -32), (-32, -29)]\n",
    "raices = []\n",
    "imagenes = []\n",
    "\n",
    "for a, b in intervalos:\n",
    "    try:\n",
    "        raiz = bisect(f, a, b, xtol=1e-6)\n",
    "        raices.append(raiz)\n",
    "        biseccion_animada(a, b, 1e-3, imagenes)\n",
    "    except ValueError:\n",
    "        print(f\"No hay cambio de signo en el intervalo [{a}, {b}]\")\n",
    "\n",
    "frames = [imageio.imread(img) for img in imagenes]\n",
    "imageio.mimsave(\"biseccion_eje2.gif\", frames, fps=1)\n",
    "\n",
    "for img in imagenes:\n",
    "    os.remove(img)\n",
    "\n",
    "print(\"GIF creado: biseccion_eje2.gif\")\n",
    "\n",
    "print(\"Intersecciones con y = -2:\")\n",
    "for r in raices:\n",
    "    print(f\"x = {r:.6f}, y = -2, f(x) = {f(r):.2e}\")\n"
   ]
  },
  {
   "cell_type": "markdown",
   "id": "021b4a87",
   "metadata": {},
   "source": [
    "## Ejercicio 3\n"
   ]
  },
  {
   "cell_type": "markdown",
   "id": "247fe838",
   "metadata": {},
   "source": [
    "Dada la función $f(x)=sin(x)/x$\n",
    "¿A partir de qué valor $xT$ se cumple que $f(x)<0.015,∀x≥xT$?\n",
    " "
   ]
  },
  {
   "cell_type": "markdown",
   "id": "d399ec5b",
   "metadata": {},
   "source": [
    "* Metodo Biseccion"
   ]
  },
  {
   "cell_type": "code",
   "execution_count": 16,
   "id": "b2d7b3e3",
   "metadata": {},
   "outputs": [
    {
     "name": "stdout",
     "output_type": "stream",
     "text": [
      "Valor xT aproximado:\n",
      "xT = 0.122628, f(xT) = 0.015000\n"
     ]
    }
   ],
   "source": [
    "import numpy as np\n",
    "from scipy.optimize import bisect\n",
    "\n",
    "def f(x):\n",
    "    return np.sin(x) * x - 0.015\n",
    "\n",
    "x = 0\n",
    "dx = 0.01\n",
    "while f(x) * f(x + dx) > 0:\n",
    "    x += dx\n",
    "\n",
    "a, b = x, x + dx\n",
    "\n",
    "raiz = bisect(f, a, b, xtol=1e-6)\n",
    "\n",
    "print(\"Valor xT aproximado:\")\n",
    "print(f\"xT = {raiz:.6f}, f(xT) = {np.sin(raiz)*raiz:.6f}\")\n"
   ]
  },
  {
   "cell_type": "markdown",
   "id": "d852d5aa",
   "metadata": {},
   "source": [
    "* Metodo de Newton"
   ]
  },
  {
   "cell_type": "code",
   "execution_count": 15,
   "id": "8fc4bba8",
   "metadata": {},
   "outputs": [
    {
     "name": "stdout",
     "output_type": "stream",
     "text": [
      "Valor xT aproximado:\n",
      "xT = 0.122628, f(xT) = 0.015000\n"
     ]
    }
   ],
   "source": [
    "import numpy as np\n",
    "from scipy.optimize import newton\n",
    "\n",
    "def f(x):\n",
    "    return np.sin(x) * x - 0.015\n",
    "\n",
    "def df(x):\n",
    "    return np.sin(x) + x * np.cos(x)\n",
    "\n",
    "x0 = 0.01\n",
    "\n",
    "raiz = newton(f, x0, fprime=df, tol=1e-6)\n",
    "\n",
    "print(\"Valor xT aproximado:\")\n",
    "print(f\"xT = {raiz:.6f}, f(xT) = {np.sin(raiz)*raiz:.6f}\")\n"
   ]
  },
  {
   "cell_type": "code",
   "execution_count": 26,
   "id": "e7f6b408",
   "metadata": {},
   "outputs": [
    {
     "name": "stdout",
     "output_type": "stream",
     "text": [
      "GIF creado: biseccion_3je3.gif\n",
      "Valor xT aproximado:\n",
      "xT = 0.122628, f(xT) = 0.015000\n"
     ]
    },
    {
     "name": "stderr",
     "output_type": "stream",
     "text": [
      "C:\\Users\\PC\\AppData\\Local\\Temp\\ipykernel_17516\\2057524927.py:48: DeprecationWarning: Starting with ImageIO v3 the behavior of this function will switch to that of iio.v3.imread. To keep the current behavior (and make this warning disappear) use `import imageio.v2 as imageio` or call `imageio.v2.imread` directly.\n",
      "  frames = [imageio.imread(im) for im in imagenes]\n"
     ]
    }
   ],
   "source": [
    "import numpy as np\n",
    "import matplotlib.pyplot as plt\n",
    "import imageio\n",
    "import os\n",
    "from scipy.optimize import bisect\n",
    "\n",
    "def f(x):\n",
    "    return np.sin(x) * x - 0.015\n",
    "\n",
    "imagenes = []\n",
    "\n",
    "x = 0\n",
    "dx = 0.01\n",
    "while f(x) * f(x + dx) > 0:\n",
    "    x += dx\n",
    "\n",
    "a, b = x, x + dx\n",
    "\n",
    "def biseccion_animada(a, b, tol, imagenes):\n",
    "    x_vals = np.linspace(a - 1, b + 1, 400)\n",
    "    y_vals = f(x_vals)\n",
    "\n",
    "    a_temp, b_temp = a, b\n",
    "    while abs(b_temp - a_temp) / 2 > tol:\n",
    "        c = (a_temp + b_temp) / 2\n",
    "\n",
    "        fig, ax = plt.subplots(figsize=(7, 4))\n",
    "        ax.plot(x_vals, y_vals, 'b')\n",
    "        ax.axhline(0, color='black', linewidth=0.8)\n",
    "        ax.scatter(c, f(c), color='red', s=50)\n",
    "        ax.plot([a_temp, a_temp], [min(y_vals), max(y_vals)], 'g--')\n",
    "        ax.plot([b_temp, b_temp], [min(y_vals), max(y_vals)], 'r--')\n",
    "        ax.set_title(f\"a={a_temp:.4f}, b={b_temp:.4f}, c={c:.4f}\")\n",
    "        ax.grid(True)\n",
    "\n",
    "        nombre = f\"frame_{len(imagenes)}.png\"\n",
    "        plt.savefig(nombre)\n",
    "        plt.close()\n",
    "        imagenes.append(nombre)\n",
    "\n",
    "        if f(a_temp) * f(c) < 0:\n",
    "            b_temp = c\n",
    "        else:\n",
    "            a_temp = c\n",
    "\n",
    "biseccion_animada(a, b, 1e-3, imagenes)\n",
    "\n",
    "frames = [imageio.imread(im) for im in imagenes]\n",
    "imageio.mimsave(\"biseccion_eje3.gif\", frames, fps=1)\n",
    "\n",
    "for im in imagenes:\n",
    "    os.remove(im)\n",
    "\n",
    "raiz = bisect(f, a, b, xtol=1e-6)\n",
    "\n",
    "print(\"GIF creado: biseccion_3je3.gif\")\n",
    "print(\"Valor xT aproximado:\")\n",
    "print(f\"xT = {raiz:.6f}, f(xT) = {np.sin(raiz)*raiz:.6f}\")\n"
   ]
  }
 ],
 "metadata": {
  "kernelspec": {
   "display_name": "Python 3",
   "language": "python",
   "name": "python3"
  },
  "language_info": {
   "codemirror_mode": {
    "name": "ipython",
    "version": 3
   },
   "file_extension": ".py",
   "mimetype": "text/x-python",
   "name": "python",
   "nbconvert_exporter": "python",
   "pygments_lexer": "ipython3",
   "version": "3.11.8"
  }
 },
 "nbformat": 4,
 "nbformat_minor": 5
}
